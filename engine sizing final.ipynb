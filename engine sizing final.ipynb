{
 "cells": [
  {
   "cell_type": "code",
   "execution_count": 2,
   "id": "a344dc50-1cbc-43e6-8c8b-812c95abea7c",
   "metadata": {},
   "outputs": [],
   "source": [
    "import math\n",
    "from IPython.display import Image"
   ]
  },
  {
   "cell_type": "code",
   "execution_count": 3,
   "id": "faff5e08-58e6-4875-a71a-5059869565b9",
   "metadata": {},
   "outputs": [],
   "source": [
    "# Thrust \n",
    "F = 66.7233\n",
    "#Specific Heat\n",
    "kc = 1.1404\n",
    "kt = 1.1426\n",
    "ke = 1.1995\n",
    "kn = 1.2\n",
    "#O/F Ratio\n",
    "OF = 5\n",
    "#Exit Pressure (atm)\n",
    "Peatm = 1\n",
    "#Temperatures (K)\n",
    "T0 = 2952.39\n",
    "Te = 2220.51\n",
    "#Molar Weight at Throat (mwt, from NASA CEA)\n",
    "mwt=26.404\n",
    "#Chamber Pressure (psi)\n",
    "p0psi = 100"
   ]
  },
  {
   "cell_type": "markdown",
   "id": "f964c815-0678-4473-982f-666e39abd846",
   "metadata": {},
   "source": [
    "# **Convert All Units**"
   ]
  },
  {
   "cell_type": "code",
   "execution_count": 4,
   "id": "b8536e67-6918-4e81-bc71-042a343de2ec",
   "metadata": {},
   "outputs": [
    {
     "name": "stdout",
     "output_type": "stream",
     "text": [
      " Pe: 101325\n",
      " P0: 689476.0\n"
     ]
    }
   ],
   "source": [
    "Pe = Peatm * 101325\n",
    "p0 = p0psi * 6894.76\n",
    "print(f' Pe: {Pe}')\n",
    "print(f' P0: {p0}')"
   ]
  },
  {
   "cell_type": "markdown",
   "id": "d0f53a40-a330-40ea-96f3-7330db12e9fb",
   "metadata": {},
   "source": [
    "# **Exhaust Gas Constant, $R$**"
   ]
  },
  {
   "cell_type": "markdown",
   "id": "79ea78c0-5fcc-454c-875e-b192425a1791",
   "metadata": {},
   "source": [
    "## **$R=\\frac{R_u}{M}=\\frac{8314}{M}$**"
   ]
  },
  {
   "cell_type": "code",
   "execution_count": 5,
   "id": "4b8fd15b-d24e-4f71-91cf-c80494dd03ac",
   "metadata": {},
   "outputs": [
    {
     "name": "stdout",
     "output_type": "stream",
     "text": [
      "314.87653385850626\n"
     ]
    }
   ],
   "source": [
    "R=(8314/mwt)\n",
    "print(R)"
   ]
  },
  {
   "cell_type": "markdown",
   "id": "1a47fbe5-c03b-47f5-ab3d-626395a56238",
   "metadata": {},
   "source": [
    "# **Temperature at Throat**"
   ]
  },
  {
   "cell_type": "markdown",
   "id": "6ace47a3-b2de-4b9c-9e12-14cebd209206",
   "metadata": {},
   "source": [
    "## **$T_t=\\frac{2T_0}{k+1}$**"
   ]
  },
  {
   "cell_type": "code",
   "execution_count": 6,
   "id": "4c1de88a-d682-4ea1-9c6b-6c2c58c83f24",
   "metadata": {},
   "outputs": [
    {
     "name": "stdout",
     "output_type": "stream",
     "text": [
      "2755.8947073648837\n"
     ]
    }
   ],
   "source": [
    "Tt=(2*T0)/(kt+1)\n",
    "print(Tt)"
   ]
  },
  {
   "cell_type": "markdown",
   "id": "d9d6209b-7929-47d6-ae3e-5900dc86d037",
   "metadata": {},
   "source": [
    "# **Local Speed of Sound at Throat**"
   ]
  },
  {
   "cell_type": "markdown",
   "id": "2c4f133a-ec25-4dfe-a798-5050f1a25805",
   "metadata": {},
   "source": [
    "## **$a=\\sqrt{kRT_t}$** "
   ]
  },
  {
   "cell_type": "code",
   "execution_count": 7,
   "id": "693a0b3d-842f-47d9-8f08-c65f698ddd92",
   "metadata": {},
   "outputs": [
    {
     "name": "stdout",
     "output_type": "stream",
     "text": [
      "995.7459949520127\n"
     ]
    }
   ],
   "source": [
    "vt=math.sqrt(kt*R*Tt)\n",
    "print(vt)"
   ]
  },
  {
   "cell_type": "markdown",
   "id": "b125e9ce-0497-48ce-a2b5-74497ac8e60c",
   "metadata": {},
   "source": [
    "# **Exit Velocity**"
   ]
  },
  {
   "cell_type": "markdown",
   "id": "7b12bf09-6647-40cc-8c47-042fcf32401f",
   "metadata": {},
   "source": [
    "# **$v_e=\\sqrt{\\frac{2k}{k-1}RT_0[1-(\\frac{P_e}{P_0})^\\frac{(k-1)}{k}]}$**"
   ]
  },
  {
   "cell_type": "code",
   "execution_count": 8,
   "id": "ae573ef0-eadf-4ec8-829b-e75014bfdac1",
   "metadata": {},
   "outputs": [
    {
     "name": "stdout",
     "output_type": "stream",
     "text": [
      "1747.2000830495565\n"
     ]
    }
   ],
   "source": [
    "ve=math.sqrt((((2*ke)/(ke-1))*R*T0)*(1-((Pe/p0)**((ke-1)/ke))))\n",
    "print(ve)"
   ]
  },
  {
   "cell_type": "markdown",
   "id": "3a483c38-fbf7-4876-9acf-c6cd4e02c2aa",
   "metadata": {},
   "source": [
    "# **Mass Flow Rate**"
   ]
  },
  {
   "cell_type": "markdown",
   "id": "89b59db1-5f60-405f-958f-edbc3f12ac39",
   "metadata": {},
   "source": [
    "## **$ṁ=\\frac{F}{v_2}=\\frac{F}{\\sqrt{\\frac{2k}{k-1}RT_0[1-(\\frac{P_e}{P_0})]^\\frac{(k-1)}{k}}}$**"
   ]
  },
  {
   "cell_type": "code",
   "execution_count": 9,
   "id": "e3a095b4-45ce-4b6d-b7cd-e4d1d6dc2810",
   "metadata": {},
   "outputs": [
    {
     "name": "stdout",
     "output_type": "stream",
     "text": [
      "mass flow rate: 0.03818870010785565 kg/s\n"
     ]
    }
   ],
   "source": [
    "mdot= F/ve\n",
    "print(f'mass flow rate: {mdot} kg/s')"
   ]
  },
  {
   "cell_type": "markdown",
   "id": "79cdc591-1955-4360-84a6-25c2546d898e",
   "metadata": {},
   "source": [
    "## **$ṁ=\\frac{P_cA^s}{\\sqrt{\\frac{RT_c}{k}}}[\\frac{k+1}{2}]^\\frac{2(k-1)}{k+1}$**"
   ]
  },
  {
   "cell_type": "markdown",
   "id": "8f818988-d379-4c5a-968e-e8401c584c70",
   "metadata": {},
   "source": [
    "# **Specific Volume at Nozzle Inlet ($V_1$ and $V_0$)**"
   ]
  },
  {
   "cell_type": "markdown",
   "id": "4275e42f-98fe-445c-bb86-06f607d1597b",
   "metadata": {},
   "source": [
    "## **$V_1=\\frac{(RT_0)}{p_0}$**~$V_0$"
   ]
  },
  {
   "cell_type": "code",
   "execution_count": 10,
   "id": "05f8b57e-5a19-4742-970a-0a009ea1b0eb",
   "metadata": {},
   "outputs": [
    {
     "name": "stdout",
     "output_type": "stream",
     "text": [
      "1.3483258732697228\n"
     ]
    }
   ],
   "source": [
    "V1=(R*T0)/p0\n",
    "print(V1)"
   ]
  },
  {
   "cell_type": "markdown",
   "id": "818f18fd-be79-40e4-a892-6e0f50ff3a27",
   "metadata": {},
   "source": [
    "# **Specific Volume at Nozzle Throat (Vt)**"
   ]
  },
  {
   "cell_type": "markdown",
   "id": "672d64f3-b51f-48c6-a700-1edc82e6754c",
   "metadata": {},
   "source": [
    "## **$V_t=V_1[\\frac{(k+1)}{2}]^\\frac{1}{(k-1)}$**"
   ]
  },
  {
   "cell_type": "code",
   "execution_count": 11,
   "id": "7faaa4a3-f057-4ecb-a303-fbd8fe0a82c9",
   "metadata": {},
   "outputs": [
    {
     "name": "stdout",
     "output_type": "stream",
     "text": [
      "2.1854967362861735\n"
     ]
    }
   ],
   "source": [
    "Vt=V1*(((kt+1)/2)**(1/(kt-1)))\n",
    "print(Vt)"
   ]
  },
  {
   "cell_type": "markdown",
   "id": "bf0c53c7-9734-4a8c-afa6-6220cb470d12",
   "metadata": {},
   "source": [
    "# **Exit Specific Volume**"
   ]
  },
  {
   "cell_type": "markdown",
   "id": "fe1ef3e5-05c3-4bbc-a72c-9297392c2063",
   "metadata": {},
   "source": [
    "## **$V_e=V_1(\\frac{p_0}{P_e})^\\frac{1}{k}$**"
   ]
  },
  {
   "cell_type": "code",
   "execution_count": 12,
   "id": "d4fc9cee-9dc2-41b1-bb7a-8168d09330e5",
   "metadata": {},
   "outputs": [
    {
     "name": "stdout",
     "output_type": "stream",
     "text": [
      "6.6693924557967375\n"
     ]
    }
   ],
   "source": [
    "Ve=V1*((p0/Pe)**(1/ke))\n",
    "print(Ve)"
   ]
  },
  {
   "cell_type": "markdown",
   "id": "aa71652a-a344-4622-9dd7-ad5969fb6351",
   "metadata": {},
   "source": [
    "# **Throat Area**"
   ]
  },
  {
   "cell_type": "markdown",
   "id": "9d08e61d-17c0-49d6-a9aa-147eae69abb5",
   "metadata": {},
   "source": [
    "## **$A_{t}=\\frac{ṁ\\sqrt{Tc}}{P_{c}}\\sqrt{\\frac{R}{k}\\left(\\frac{k+1}{2}\\right)^{\\frac{\\left(k+1\\right)}{\\left(k-1\\right)}}}$**"
   ]
  },
  {
   "cell_type": "code",
   "execution_count": 13,
   "id": "bc583e0e-fb20-4124-8e76-aca8b563e1ab",
   "metadata": {},
   "outputs": [
    {
     "name": "stdout",
     "output_type": "stream",
     "text": [
      "Area: 8.381784096731629e-05 m^2\n",
      "Diameter: 0.010330546436365797 m\n",
      "Diameter (in): 0.4067136131997214 in\n"
     ]
    }
   ],
   "source": [
    "At=((mdot*math.sqrt(T0))/p0)*math.sqrt(((R/kt)*(((kt+1)/(2))**((kt+1)/(kt-1)))))\n",
    "print(f'Area: {At} m^2')\n",
    "dia=2*math.sqrt((At/math.pi))\n",
    "print(f'Diameter: {dia} m')\n",
    "diain = dia*39.37\n",
    "print(f'Diameter (in): {diain} in')"
   ]
  },
  {
   "cell_type": "markdown",
   "id": "e51e0a03-35a3-47f7-988b-f09a89b44fa5",
   "metadata": {},
   "source": [
    "# **Nozzle Exit Mach Number**"
   ]
  },
  {
   "cell_type": "markdown",
   "id": "757730e4-7032-4082-ad2f-baedff76ea2e",
   "metadata": {},
   "source": [
    "## **$M_e=\\frac{v_e}{\\sqrt{kRT_e}}$**"
   ]
  },
  {
   "cell_type": "code",
   "execution_count": 14,
   "id": "d58fc310-1235-4b06-b6f3-0a0bd80ff638",
   "metadata": {},
   "outputs": [
    {
     "name": "stdout",
     "output_type": "stream",
     "text": [
      "1.9078577950180966\n"
     ]
    }
   ],
   "source": [
    "Me=ve/(math.sqrt((ke*R*Te)))\n",
    "print(Me)"
   ]
  },
  {
   "cell_type": "markdown",
   "id": "b630b9bd-db4d-4493-accb-6429fe33254d",
   "metadata": {},
   "source": [
    "# **Nozzle Exit Area**"
   ]
  },
  {
   "cell_type": "markdown",
   "id": "4eb99f85-89c7-40ce-9db8-90e0d34fc6d7",
   "metadata": {},
   "source": [
    "## **$A_e=\\frac{A_t}{M_e}[\\frac{2}{k+1}(1+\\frac{k-1}{2}M_e^2)]^\\frac{k+1}{2(k-1)}$**"
   ]
  },
  {
   "cell_type": "code",
   "execution_count": 15,
   "id": "0254c9b9-f52a-43c0-8219-2e752c134e44",
   "metadata": {},
   "outputs": [
    {
     "name": "stdout",
     "output_type": "stream",
     "text": [
      "Area: 0.00014345413833963657 m^2\n",
      "Diameter: 0.01351486151575124 m\n",
      "Diameter (in): 0.5320800978751263 in\n"
     ]
    }
   ],
   "source": [
    "Ae=(At/Me)*(((2/(ke+1))*(1+((ke-1)/2)*Me**2))**((ke+1)/(2*(ke-1))))\n",
    "print(f'Area: {Ae} m^2')\n",
    "diae=2*math.sqrt((Ae/math.pi))\n",
    "print(f'Diameter: {diae} m')\n",
    "diaine = diae*39.37\n",
    "print(f'Diameter (in): {diaine} in')"
   ]
  },
  {
   "cell_type": "markdown",
   "id": "c36949c1-f8d4-4855-b656-798536eadef2",
   "metadata": {},
   "source": [
    "# Chamber Sizing "
   ]
  },
  {
   "cell_type": "markdown",
   "id": "db154270-86b5-4526-a472-383af830ea39",
   "metadata": {},
   "source": [
    "## Contraction Ratio"
   ]
  },
  {
   "cell_type": "code",
   "execution_count": 16,
   "id": "b6b1fa92-136d-43be-b6f0-bdd719444096",
   "metadata": {},
   "outputs": [],
   "source": [
    "Ec = 8"
   ]
  },
  {
   "cell_type": "markdown",
   "id": "295df58e-0d9b-4be3-b092-8a42e314a3fe",
   "metadata": {},
   "source": [
    "## Chamber Area"
   ]
  },
  {
   "cell_type": "markdown",
   "id": "9218849c-1642-45dd-8975-505f10910fc6",
   "metadata": {},
   "source": [
    "## **$A_{c}=ε_{c}A_{t}$**"
   ]
  },
  {
   "cell_type": "code",
   "execution_count": 17,
   "id": "ba99c52c-d8db-4840-aee1-1564319315f3",
   "metadata": {},
   "outputs": [
    {
     "name": "stdout",
     "output_type": "stream",
     "text": [
      "Chamber Area: 0.0006705427277385303 m^2\n"
     ]
    }
   ],
   "source": [
    "Ac=Ec*At\n",
    "print(f'Chamber Area: {Ac} m^2')"
   ]
  },
  {
   "cell_type": "markdown",
   "id": "44b19bfa-b42f-4bed-983a-e4ebd8548fee",
   "metadata": {},
   "source": [
    "## Chamber Diameter"
   ]
  },
  {
   "cell_type": "markdown",
   "id": "afcb1ec3-9ba9-4945-aa7a-ae14994b4520",
   "metadata": {},
   "source": [
    "## **$D_{c}=2\\sqrt{\\frac{A_{c}}{\\pi}}$**"
   ]
  },
  {
   "cell_type": "code",
   "execution_count": 18,
   "id": "753a1296-ef9c-4ded-8ba1-e16953c473b2",
   "metadata": {},
   "outputs": [
    {
     "name": "stdout",
     "output_type": "stream",
     "text": [
      "Chamber Diameter: 0.02921919775406711 m\n",
      "Chamber Diameter: 1.150359815577622 in\n"
     ]
    }
   ],
   "source": [
    "Dc = 2*math.sqrt((Ac/math.pi))\n",
    "Dci = Dc*39.37\n",
    "print(f'Chamber Diameter: {Dc} m')\n",
    "print(f'Chamber Diameter: {Dc*39.37} in')"
   ]
  },
  {
   "cell_type": "markdown",
   "id": "a880f6c7-ceb0-4643-a77a-346934f8fa40",
   "metadata": {},
   "source": [
    "## Chamber Volume"
   ]
  },
  {
   "cell_type": "markdown",
   "id": "ca356cc6-d7c5-4e55-a099-c1cac8ef3d1f",
   "metadata": {},
   "source": [
    "## **$V_{c}=L^*\\cdot A_{t}$**"
   ]
  },
  {
   "cell_type": "code",
   "execution_count": 19,
   "id": "37d0d484-9620-490b-95b6-efab8b4ebbb2",
   "metadata": {},
   "outputs": [],
   "source": [
    "L=2"
   ]
  },
  {
   "cell_type": "code",
   "execution_count": 20,
   "id": "eaa4202e-70e0-44e0-bfcf-d39309f4757c",
   "metadata": {},
   "outputs": [
    {
     "name": "stdout",
     "output_type": "stream",
     "text": [
      "Chamber Volume: 0.00016763568193463259 m^3\n"
     ]
    }
   ],
   "source": [
    "Vc = L*At\n",
    "print(f'Chamber Volume: {Vc} m^3')"
   ]
  },
  {
   "cell_type": "markdown",
   "id": "e845c6e0-9d1f-41b2-a05a-b81a79966634",
   "metadata": {},
   "source": [
    "## Chamber Length"
   ]
  },
  {
   "cell_type": "markdown",
   "id": "7dc7ea26-2dd9-447f-892e-c677590be7ab",
   "metadata": {},
   "source": [
    "## **$L_{c}=\\frac{V_{c}}{\\pi D_{cm}^{2}}$**"
   ]
  },
  {
   "cell_type": "code",
   "execution_count": 21,
   "id": "e165cc1d-8ccb-4116-8288-901fb46d7bbd",
   "metadata": {},
   "outputs": [
    {
     "name": "stdout",
     "output_type": "stream",
     "text": [
      "Chamber Length: 0.06250000000000001 m\n",
      "Chamber Length (in): 2.4606250000000003 in\n"
     ]
    }
   ],
   "source": [
    "Lc = Vc/(math.pi*(Dc**2))\n",
    "Lci = Lc *39.37\n",
    "print(f'Chamber Length: {Lc} m')\n",
    "print(f'Chamber Length (in): {Lc*39.37} in')"
   ]
  },
  {
   "cell_type": "markdown",
   "id": "1919c144-3f48-4fce-a763-a704dd56c420",
   "metadata": {},
   "source": [
    "# **Nozzle Dimensions for CAD**"
   ]
  },
  {
   "cell_type": "markdown",
   "id": "3c9dec32-e90b-4cd1-9ddf-ea6942126c7a",
   "metadata": {},
   "source": [
    "![hi](images/contour.png)"
   ]
  },
  {
   "cell_type": "code",
   "execution_count": 22,
   "id": "d999a9fa-6bdc-4d5f-92ce-4418c0baf603",
   "metadata": {},
   "outputs": [],
   "source": [
    "R1 = 1.5*diain\n",
    "R2 = R1 \n",
    "Rn = .382*diain"
   ]
  },
  {
   "cell_type": "code",
   "execution_count": 23,
   "id": "91fe9ab8-2fb8-41a1-973b-f5ea0554dcdd",
   "metadata": {},
   "outputs": [
    {
     "data": {
      "image/png": "[encoded data removed]",
      "text/plain": [
       "<Figure size 640x480 with 1 Axes>"
      ]
     },
     "metadata": {},
     "output_type": "display_data"
    }
   ],
   "source": [
    "import matplotlib.pyplot as plt\n",
    "import matplotlib.image as mpimg\n",
    "\n",
    "# Load the image\n",
    "image = mpimg.imread('contour.png')\n",
    "\n",
    "# Create a figure and axes\n",
    "fig, ax = plt.subplots()\n",
    "\n",
    "# Display the image\n",
    "ax.imshow(image)\n",
    "\n",
    "# Add the label\n",
    "ax.text(440, 160, f'{R1}', fontsize=10, color='black', rotation=67)\n",
    "ax.text(300, 160, f'{R2}', fontsize=10, color='black', rotation=67)\n",
    "ax.text(525, 675, f'{Rn}', fontsize=10, color='black', rotation=-67)\n",
    "ax.text(1100, 250, f'{diaine}', fontsize=10, color='black')\n",
    "ax.text(725, 225, f'{15} deg', fontsize=10, color='black')\n",
    "ax.text(-330, 250, f'{Dci}', fontsize=10, color='black')\n",
    "# x, y are coordinates for the label position\n",
    "# fontsize, color, ha (horizontal alignment), va (vertical alignment) can be adjusted\n",
    "\n",
    "# Remove axes for cleaner look (optional)\n",
    "ax.axis('off')\n",
    "\n",
    "# Show the plot\n",
    "plt.show()"
   ]
  },
  {
   "cell_type": "markdown",
   "id": "6bbc73a5-1449-4526-a6f5-22b4f7e52e00",
   "metadata": {},
   "source": [
    "# **Feed System Sizing**"
   ]
  },
  {
   "cell_type": "markdown",
   "id": "ad35d1fa-0804-4065-97a9-a928c7979821",
   "metadata": {},
   "source": [
    "![hi](images/feed.png)"
   ]
  },
  {
   "cell_type": "code",
   "execution_count": 24,
   "id": "bb66908d-0caa-41cc-a8c2-1097ff2be25a",
   "metadata": {},
   "outputs": [],
   "source": [
    "#mdotL = mdot * 1/2\n",
    "#pG = \n",
    "#RG = \n",
    "#TG = \n",
    "#dL = "
   ]
  },
  {
   "cell_type": "code",
   "execution_count": 25,
   "id": "d1592a9c-9457-4150-bc29-8cf904dda8ad",
   "metadata": {},
   "outputs": [],
   "source": [
    "#mdotG=(mdotL*pG)/(dL*RG*TG)"
   ]
  },
  {
   "cell_type": "markdown",
   "id": "2d167c3a-d2ab-44c0-924e-d36cadc75ed6",
   "metadata": {},
   "source": [
    "# **Injector Sizing** "
   ]
  },
  {
   "cell_type": "markdown",
   "id": "06e324c3-3664-40b3-978f-f5f0ee7d86cc",
   "metadata": {},
   "source": [
    "## **$ṁ=C_dA\\sqrt{2ρΔP}$**"
   ]
  },
  {
   "cell_type": "markdown",
   "id": "eb9b3bf8-984d-421e-ace6-b24a42f1fb28",
   "metadata": {},
   "source": [
    "## Mass flow rate as a function of the coefficient of discharge, area, density, and pressure drop. This can be rearranged to find the Area of the injector orifice."
   ]
  },
  {
   "cell_type": "markdown",
   "id": "9c15c1fb-b722-497f-9ec3-0f88ffceef6a",
   "metadata": {},
   "source": [
    "## **$A=\\frac{ṁ}{C_d\\sqrt{2ρΔP}}$**"
   ]
  },
  {
   "cell_type": "code",
   "execution_count": 35,
   "id": "b564094c-e0c0-4e15-a834-2be7fc9c3253",
   "metadata": {},
   "outputs": [
    {
     "name": "stdout",
     "output_type": "stream",
     "text": [
      "fuel mass flow rate: 0.006364783351309275 kg/s\n",
      "fuel mass flow rate: 0.03182391675654637 kg/s\n"
     ]
    }
   ],
   "source": [
    "#defining  variables & calculating specific mdot\n",
    "deltaP = 50 * 6894.76\n",
    "rhoF = 789\n",
    "rhoO = 800\n",
    "Cd = .4\n",
    "mdotF = mdot/(OF+1) \n",
    "mdotO = (mdot*OF)/(OF+1)\n",
    "print(f'fuel mass flow rate: {mdotF} kg/s')\n",
    "print(f'fuel mass flow rate: {mdotO} kg/s')"
   ]
  },
  {
   "cell_type": "code",
   "execution_count": 30,
   "id": "a5d50b17-d79b-4a61-a504-6961734a67cc",
   "metadata": {},
   "outputs": [
    {
     "name": "stdout",
     "output_type": "stream",
     "text": [
      "Ethanol Injector Area: 6.822217416999436e-07 m^2\n",
      "Nitrous Injector Area: 3.3875761630052063e-06 m^2\n",
      "Ethanol Injector Diameter: 0.021184714945355867 in (0.538091759612039 mm)\n",
      "Nitrous Injector Diameter: 0.04720678031448551 in (1.1990522199879319 mm)\n"
     ]
    }
   ],
   "source": [
    "nO = 3 #number of oxidizer annuli \n",
    "nF = 3 #number of fuel annuli\n",
    "injAF = mdotF/(Cd*math.sqrt(2*rhoF*deltaP))\n",
    "injAO = mdotO/(Cd*math.sqrt(2*rhoO*deltaP))\n",
    "print(f'Ethanol Injector Area: {injAF} m^2')\n",
    "print(f'Nitrous Injector Area: {injAO} m^2')\n",
    "injDF = 2*math.sqrt((injAF/nF)/math.pi)\n",
    "injDO = 2*math.sqrt((injAO/nO)/math.pi)\n",
    "print(f'Ethanol Injector Diameter: {injDF * 39.37} in ({injDF * 39.37 * 25.4} mm)')\n",
    "print(f'Nitrous Injector Diameter: {injDO * 39.37} in ({injDO * 39.37 * 25.4} mm)')"
   ]
  },
  {
   "cell_type": "markdown",
   "id": "e426facc-e2c9-4d2c-bb84-a9fc06a65ef9",
   "metadata": {},
   "source": [
    "# **flow rate of injector liquid (gpm)**"
   ]
  },
  {
   "cell_type": "markdown",
   "id": "1ab15e46-dd9c-41d0-9b13-e394b291cc82",
   "metadata": {},
   "source": [
    "## $f_e=\\frac{ṁ_E}{2.998}60$"
   ]
  },
  {
   "cell_type": "code",
   "execution_count": 39,
   "id": "2dd406d1-70c3-46b2-baf1-4443ade392b8",
   "metadata": {},
   "outputs": [
    {
     "name": "stdout",
     "output_type": "stream",
     "text": [
      "Fuel Flow rate: 0.12786335474859833 gpm\n",
      "Oxidizer Flow rate: 0.6305261681040253 gpm\n",
      "total flow rate: 0.7583895228526236 gpmn\n"
     ]
    }
   ],
   "source": [
    "kgmF = mdotF * 60\n",
    "kgmO = mdotO * 60\n",
    "gpmF = kgmF/((rhoF/1000) *3.7854)\n",
    "gpmO = kgmO/((rhoO/1000) *3.7854)\n",
    "print(f'Fuel Flow rate: {gpmF} gpm')\n",
    "print(f'Oxidizer Flow rate: {gpmO} gpm')\n",
    "print(f'total flow rate: {gpmF + gpmO} gpm')"
   ]
  },
  {
   "cell_type": "markdown",
   "id": "9aa0b728-a401-4da0-bdaf-201e2c141fa1",
   "metadata": {},
   "source": [
    "# **velocity of injected propellants (m/s)**"
   ]
  },
  {
   "cell_type": "markdown",
   "id": "ba161b95-8e01-4ddc-b85c-d0ee32136480",
   "metadata": {},
   "source": [
    "## $v=\\frac{ẇ}{Aρ}$"
   ]
  },
  {
   "cell_type": "code",
   "execution_count": 41,
   "id": "81c7b8da-5e0a-4bfe-a6c0-d6d7d6741e71",
   "metadata": {},
   "outputs": [
    {
     "name": "stdout",
     "output_type": "stream",
     "text": [
      "ethanol injection velocity: 29.561132979242803 m/s\n",
      "nitrous injection velocity: 1.224744871391589 m/s\n"
     ]
    }
   ],
   "source": [
    "vF=math.sqrt((2*deltaP)/rhoF)\n",
    "vO=math.sqrt((2*600)/rhoO)\n",
    "print(f'ethanol injection velocity: {vF} m/s')\n",
    "print(f'nitrous injection velocity: {vO} m/s')"
   ]
  },
  {
   "cell_type": "markdown",
   "id": "46e573e0-77a7-470e-81a8-0235924bbfb5",
   "metadata": {},
   "source": [
    "# The length of an orifice generally should range between 3-10 times its diameter"
   ]
  },
  {
   "cell_type": "markdown",
   "id": "61d03b79-447c-470b-b4b2-44d42cd23f7f",
   "metadata": {},
   "source": [
    "## $O_L=3*O_D$  |  $O_L=10*O_D$"
   ]
  },
  {
   "cell_type": "markdown",
   "id": "891ac75b-0051-4fc3-b1a8-50b86243d39a",
   "metadata": {},
   "source": [
    "References 13, 29, and 30 contain basic design data on concentric tubes used with GH2 and LO2, References 31 through 37 are additional reports pertinent to concentric-tube designs."
   ]
  },
  {
   "cell_type": "code",
   "execution_count": null,
   "id": "04851d05-3b09-4691-b663-0b82a022cde9",
   "metadata": {},
   "outputs": [],
   "source": []
  }
 ],
 "metadata": {
  "kernelspec": {
   "display_name": "Python 3 (ipykernel)",
   "language": "python",
   "name": "python3"
  },
  "language_info": {
   "codemirror_mode": {
    "name": "ipython",
    "version": 3
   },
   "file_extension": ".py",
   "mimetype": "text/x-python",
   "name": "python",
   "nbconvert_exporter": "python",
   "pygments_lexer": "ipython3",
   "version": "3.11.4"
  }
 },
 "nbformat": 4,
 "nbformat_minor": 5
}
