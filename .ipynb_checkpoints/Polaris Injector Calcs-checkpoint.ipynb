{
 "cells": [
  {
   "cell_type": "markdown",
   "id": "4d500f95",
   "metadata": {},
   "source": [
    "Polaris Injector Calcs\n",
    "\n",
    "In this program we will calculate all the parameters necessary to design an unlike impinging triplet injector. "
   ]
  },
  {
   "cell_type": "code",
   "execution_count": 62,
   "id": "88c1b3b7",
   "metadata": {},
   "outputs": [],
   "source": [
    "import numpy as np\n",
    "import matplotlib.pyplot as plt\n",
    "import math"
   ]
  },
  {
   "cell_type": "markdown",
   "id": "b64d3d71",
   "metadata": {},
   "source": [
    "First off, we need to know the mass flow rates of the oxidizer (nitrous oxide) and fuel (ethanol). Our total mass flow rate is 1.3 kg/s. However, our fuel to oxidizer ratio is 1:4.5, so we need a lot more oxidizer mass flow rate than fuel. We will distribute the flow rate by having two orifices for oxidizer and one orifice for fuel per triplet group. To obtain the ratios of mass flow rates, we can simply multiply the total mass flow by each ratio, accounting for the fact that there are 3 orifices per group and 5 groups in total."
   ]
  },
  {
   "cell_type": "code",
   "execution_count": 63,
   "id": "5e1d9eac",
   "metadata": {},
   "outputs": [
    {
     "name": "stdout",
     "output_type": "stream",
     "text": [
      "mdot_ox:  0.10636363636363637\n",
      "mdot_ethanol:  0.04727272727272728\n"
     ]
    }
   ],
   "source": [
    "mdot_nitrous_inner_total = 1.3 * (4.5/5.5) / 2\n",
    "mdot_nitrous_middle_total = 1.3 * (4.5/5.5) / 2\n",
    "mdot_ethanol_total = 1.3 * (1/5.5)\n",
    "\n",
    "mdot_nitrous_inner = mdot_nitrous_inner_total / 5\n",
    "mdot_nitrous_middle = mdot_nitrous_middle_total / 5\n",
    "mdot_ethanol = mdot_ethanol_total / 5\n",
    "mdot_nitrous_inner_total\n",
    "print(\"mdot_ox: \", mdot_nitrous_inner)\n",
    "print(\"mdot_ethanol: \", mdot_ethanol)"
   ]
  },
  {
   "cell_type": "markdown",
   "id": "d4f49b95",
   "metadata": {},
   "source": [
    "Here are some other necessary parameters:\n",
    "c_d is the discharge coefficient, which was calculated in a MATLAB program run by Alex. It is the predicted ratio of actual discharge of mass at the end of the nozzle to ideal discharge of mass at the end of the nozzle.\n",
    "\n",
    "rho_ethanol is the density of ethanol (789 kg/m^3).\n",
    "\n",
    "rho_nitrous is the density of nitrous oxide (817 kg/m^3).\n",
    "pressure_chamber is the stagnation pressure of the chamber converted from 520 psi to Pa. \n",
    "\n",
    "delta_pressure_injector is the pressure drop across the injector in Pa (converted from 100 psi), should be 15-20% of the chamber pressure.\n",
    "\n",
    "pressure_fuel_inlet is the pressure in the fuel manifold.\n",
    "\n",
    "pressure_oxidizer_inlet is the pressure in the oxidizer manifold.\n",
    "\n",
    "d_ox is the diameter of the oxidier holes in inches.\n",
    "\n",
    "d_fuel is the diameter of the fuel holes in inches.\n",
    "\n",
    "v_nitrous is the exit velocity from the oxidizer orifices. Calculated via Bernoulli's principle\n",
    "\n",
    "v_ethanol is the exit velocity from the fuel orifices. Calculated via Bernoulli's principle."
   ]
  },
  {
   "cell_type": "code",
   "execution_count": 64,
   "id": "e0c96bcb",
   "metadata": {},
   "outputs": [
    {
     "name": "stdout",
     "output_type": "stream",
     "text": [
      "v_nitrous:  40.4628968566491\n",
      "v_ethanol:  41.17461041052858\n"
     ]
    }
   ],
   "source": [
    "c_d = 0.41\n",
    "rho_ethanol = 789\n",
    "rho_nitrous = 817\n",
    "pressure_chamber = 460*6895\n",
    "delta_pressure_injector = 97*6895\n",
    "pressure_fuel_inlet = delta_pressure_injector + pressure_chamber\n",
    "pressure_oxidizer_inlet = delta_pressure_injector + pressure_chamber\n",
    "d_ox = 7/64\n",
    "d_fuel = 1/16\n",
    "v_nitrous = np.sqrt((2*delta_pressure_injector)/rho_nitrous)\n",
    "v_ethanol = np.sqrt((2*delta_pressure_injector)/rho_ethanol)\n",
    "print(\"v_nitrous: \", v_nitrous)\n",
    "print(\"v_ethanol: \", v_ethanol)"
   ]
  },
  {
   "cell_type": "markdown",
   "id": "0bbc8102",
   "metadata": {},
   "source": [
    "Now let's define some helper functions to convert angles from deg to rad and vice versa."
   ]
  },
  {
   "cell_type": "code",
   "execution_count": 65,
   "id": "8b69408f",
   "metadata": {},
   "outputs": [],
   "source": [
    "def deg_to_rad(angle):\n",
    "    \"\"\" Converts angle from deg to rad.\"\"\"\n",
    "    return angle*np.pi/180\n",
    "\n",
    "def rad_to_deg(angle):\n",
    "    \"\"\" Converts angle from rad to deg.\"\"\"\n",
    "    return angle*180/np.pi"
   ]
  },
  {
   "cell_type": "markdown",
   "id": "5462da87",
   "metadata": {},
   "source": [
    "Now that we have the necessary base parameters, we will calculate the optimal angles from the vertical for each orifice in a triplet. To do this we can use a conservation of momentum equation. In this conservation of momentum equation, we choose an angle beta of 10 degrees for the resulting momentum stream to mitigate oxidiizer accumulation on the chamber walls."
   ]
  },
  {
   "cell_type": "code",
   "execution_count": 66,
   "id": "cef01952",
   "metadata": {},
   "outputs": [],
   "source": [
    "beta = deg_to_rad(10)"
   ]
  },
  {
   "cell_type": "markdown",
   "id": "01c5a3e8",
   "metadata": {},
   "source": [
    "For this geometry, the horizontal component of the fuel and middle nitrous orifice are pointing radially inward. Only the inner oxidizer is has a horizontal component pointing radially outward. We implement this by adding a direction (minus or plus) on each momentum component. See the CAD for more detail.\n",
    "\n",
    "The general formula for the optimal angles for the three orifices is derived by using conservation of momentum on the three impinging streams and isolating tan(beta). This equation is very messy and unfortunately has three variables. However, we can use the relation provided in a JPL paper, which stated that the optimal included angle of a doublet is 60 degrees. We can translate this to a triplet design by saying that the included angle between the fuel and the inner oxidizer orifice should be 60 degrees. Therefore, we can define the angle of the fuel orifice in terms of the inner oxidizer orifice, reducing our equation to two variables.\n",
    "\n",
    "Next, we reorganize the equation so that we can solve for one angle in terms of another angle and define some intermediate parameters (b and c) to make the final equation more concise."
   ]
  },
  {
   "cell_type": "code",
   "execution_count": 67,
   "id": "6c3024eb",
   "metadata": {},
   "outputs": [
    {
     "name": "stdout",
     "output_type": "stream",
     "text": [
      "Please enter an angle for the inner oxidizer orifice: 14\n",
      "theta_nitrous_inner:  14\n",
      "theta_nitrous_middle:  18.100146575234053\n",
      "theta_fuel:  46\n"
     ]
    }
   ],
   "source": [
    "def calculate_theta_nitrous_middle(asserted_inner_angle, beta=beta):\n",
    "    \"\"\"\n",
    "    Given a desired angle for the inner nitrous orifice (deg) and angle\n",
    "    of resultant spray after impingement (beta), returns ideal angle\n",
    "    for middle nitrous orifice (deg). All angles relative to vertical.\n",
    "    \"\"\"\n",
    "    theta_nitrous_inner = deg_to_rad(asserted_inner_angle) # radians\n",
    "    b = np.tan(beta)\n",
    "    c = ((b * mdot_ethanol * v_ethanol * np.cos(deg_to_rad(60)-theta_nitrous_inner) \n",
    "        + b * mdot_nitrous_inner * v_nitrous * np.cos(theta_nitrous_inner) \n",
    "        - mdot_ethanol * v_ethanol * np.sin(deg_to_rad(60)-theta_nitrous_inner) \n",
    "        + mdot_nitrous_inner * v_nitrous * np.sin(theta_nitrous_inner))\n",
    "        /(mdot_nitrous_middle * v_nitrous))\n",
    "    theta_nitrous_middle = rad_to_deg(2*np.arctan((np.sqrt(b**2 - c**2 + 1)-1)/(b-c)))\n",
    "    return theta_nitrous_middle\n",
    "\n",
    "# suppose we want 14 deg inner\n",
    "theta_nitrous_inner = int(input(\"Please enter an angle for the inner oxidizer orifice: \"))\n",
    "theta_nitrous_middle = calculate_theta_nitrous_middle(theta_nitrous_inner)\n",
    "theta_fuel = 60-theta_nitrous_inner\n",
    "print(\"theta_nitrous_inner: \", theta_nitrous_inner)\n",
    "print(\"theta_nitrous_middle: \", theta_nitrous_middle)\n",
    "print(\"theta_fuel: \", theta_fuel)"
   ]
  },
  {
   "cell_type": "markdown",
   "id": "125e4239",
   "metadata": {},
   "source": [
    "Next, we want to calculate the distance of the three orifices that will allow the three streams to meet at a single point for a given impingement distance. We define the impingement distance to be 5 times the average the of diameters of the three orifices. From there, we can calculate d_oo, the distance between the two oxidizer orifices, and d_of, the distance from the middle oxidizer orifice to the fuel orifice, using simple trig. All numbers in the cell below are in inches and refer to distances on the bottom of the faceplate."
   ]
  },
  {
   "cell_type": "code",
   "execution_count": 83,
   "id": "3c1fbb9f",
   "metadata": {},
   "outputs": [
    {
     "name": "stdout",
     "output_type": "stream",
     "text": [
      "Distance between oxidizer orifices:  0.27008494499845\n",
      "Distance between middle oxidizer orifice and fuel orifice:  0.6386172782550384\n",
      "Impingement distance:  0.46875\n"
     ]
    }
   ],
   "source": [
    "impinge_d = ((2*d_ox+d_fuel) / 3) * 5\n",
    "d_oo = impinge_d * (np.tan(deg_to_rad(theta_nitrous_inner)) + np.tan(deg_to_rad(theta_nitrous_middle)))\n",
    "d_of = impinge_d * (np.tan(deg_to_rad(theta_fuel)) + np.tan(deg_to_rad(theta_nitrous_middle)))\n",
    "print(\"Distance between oxidizer orifices: \", d_oo)\n",
    "print(\"Distance between middle oxidizer orifice and fuel orifice: \", d_of)\n",
    "print(\"Impingement distance: \", impinge_d)"
   ]
  },
  {
   "cell_type": "markdown",
   "id": "a01a96fd",
   "metadata": {},
   "source": [
    "We also want to calculate the height of the injector face. The literature states that the length of each orifice should be given by L/d = 3-10 (L = length of orifice, d = diameter of orifice). This design, will have an L/d ratio of 4 for the fuel orifice, and an L/d ratio of 5 for the oxidizer orifice. I am currently not sure if having different L/d ratios for the fuel and oxidizer orifices affects anything. \n",
    "\n",
    "With the lengths of the injector face for each orifice, we can calculate the necessary height of the faceplate using trig. We will get two similar heights (but different) heights from each oxidizer orifice, but we will use the average of the two. Numbers below are in inches."
   ]
  },
  {
   "cell_type": "code",
   "execution_count": 69,
   "id": "c0fd9918",
   "metadata": {},
   "outputs": [
    {
     "name": "stdout",
     "output_type": "stream",
     "text": [
      "Height of faceplate for oxidizer:  0.5252216656973887\n",
      "Height of faceplate for fuel:  0.17366459261474934\n"
     ]
    }
   ],
   "source": [
    "L_ox = 5 * d_ox \n",
    "L_fuel = 4 * d_fuel\n",
    "h_ox_inner = L_ox * np.cos(deg_to_rad(theta_nitrous_inner))\n",
    "h_ox_middle = L_ox * np.cos(deg_to_rad(theta_nitrous_middle))\n",
    "h_ox_avg = (h_ox_inner + h_ox_middle)/2\n",
    "h_fuel = L_fuel * np.cos(deg_to_rad(theta_fuel))\n",
    "print(\"Height of faceplate for oxidizer: \", h_ox_avg)\n",
    "print(\"Height of faceplate for fuel: \", h_fuel)"
   ]
  },
  {
   "cell_type": "markdown",
   "id": "3904ebad",
   "metadata": {},
   "source": [
    "Given the height of the faceplate, we now want to find the locations of the orifices on the top of the injector faceplate to further analyze if the spacing is feasible."
   ]
  },
  {
   "cell_type": "code",
   "execution_count": 70,
   "id": "20b52ca5",
   "metadata": {},
   "outputs": [
    {
     "name": "stdout",
     "output_type": "stream",
     "text": [
      "Distance between oxidizer orifices on top:  0.5727078030077801\n",
      "Distance between middle oxidizer orifice and fuel orifice on top:  0.45526451090115655\n"
     ]
    }
   ],
   "source": [
    "d_oo_top = (impinge_d + h_ox_avg) * np.tan(deg_to_rad(theta_nitrous_inner)) + (impinge_d + h_ox_avg) * np.tan(deg_to_rad(theta_nitrous_middle))\n",
    "d_of_top = (impinge_d + h_fuel) * np.tan(deg_to_rad(theta_fuel)) - (impinge_d + h_fuel) * np.tan(deg_to_rad(theta_nitrous_middle))\n",
    "print(\"Distance between oxidizer orifices on top: \", d_oo_top)\n",
    "print(\"Distance between middle oxidizer orifice and fuel orifice on top: \", d_of_top)"
   ]
  },
  {
   "cell_type": "markdown",
   "id": "a2ababe8",
   "metadata": {},
   "source": [
    "Next we will calculate the cross-sectional area of each of the fuel and oxidizer orifices using an equation derived from Bernoulli's principle and conservation of mass. Note here that we convert from square meters to square inches. (Later note: this does not work, we instead calculate areas from physical measurement). Next we get optimal cross-sectional area of each annulus, which is given by 4 * A_total. Not sure where this relation comes from. Finally, given we calculate the y dimension of the cross-section of each annulus given the x dimension.\n",
    "\n",
    "Suggested widths: 0.3 in for fuel, 1.5 in for oxidizer."
   ]
  },
  {
   "cell_type": "code",
   "execution_count": 72,
   "id": "a581ed02",
   "metadata": {},
   "outputs": [
    {
     "name": "stdout",
     "output_type": "stream",
     "text": [
      "Enter in a value for the x-component of oxidizer annulus cross-sectional area. It should be bigger than the distance between the oxidizer holes, and also be wide enough to fit a 1/4th inch pipe fitting: 0.77\n",
      "Enter in a value for the x-component of fuel annulus cross-sectional area. It should be wide enough to fit a 1/16th inch pipe fitting: 0.3\n",
      "X component of oxidizer annulus: 0.77\n",
      "Y component of oxidizer annulus: 0.24404239807271563\n",
      "X component of fuel annulus: 0.3\n",
      "Y component of fuel annulus: 0.10226538585904275\n"
     ]
    }
   ],
   "source": [
    "# A_nitrous_total = ((mdot_nitrous_inner_total+mdot_nitrous_middle_total)/c_d) * np.sqrt(1/(2 * rho_nitrous * delta_pressure_injector)) * 1550 # Multiply these areas by 1550 to convert them from square meters to square inches \n",
    "# A_ethanol_total = (mdot_ethanol_total/c_d) * np.sqrt(1/(2 * rho_ethanol * delta_pressure_injector)) * 1550\n",
    "A_nitrous_total = np.pi*(d_ox/2)**2 * 10\n",
    "A_ethanol_total = np.pi*(d_fuel/2)**2 * 5\n",
    "A_ox_annulus = A_nitrous_total * 4\n",
    "A_fuel_annulus = A_ethanol_total * 4\n",
    "d_ox_annulus_x = float(input(\"Enter in a value for the x-component of oxidizer annulus cross-sectional area. It should be bigger than the distance between the oxidizer holes, and also be wide enough to fit a 1/4th inch pipe fitting: \"))\n",
    "d_fuel_annulus_x = float(input(\"Enter in a value for the x-component of fuel annulus cross-sectional area. It should be wide enough to fit a 1/16th inch pipe fitting: \"))\n",
    "d_ox_annulus_y = A_ox_annulus / d_ox_annulus_x / 2\n",
    "d_fuel_annulus_y = A_fuel_annulus / d_fuel_annulus_x / 2\n",
    "print(f'X component of oxidizer annulus: {d_ox_annulus_x}')\n",
    "print(f'Y component of oxidizer annulus: {d_ox_annulus_y}')\n",
    "print(f'X component of fuel annulus: {d_fuel_annulus_x}')\n",
    "print(f'Y component of fuel annulus: {d_fuel_annulus_y}')"
   ]
  },
  {
   "cell_type": "markdown",
   "id": "d54b6842",
   "metadata": {},
   "source": [
    "Next we want to calculate the distance from each orifice to the impingement point, which will then allow us to calculate the time to impingement for each stream."
   ]
  },
  {
   "cell_type": "code",
   "execution_count": 80,
   "id": "afe0ead9",
   "metadata": {},
   "outputs": [],
   "source": [
    "d_impingement_nitrous_inner = impinge_d / np.cos(deg_to_rad(theta_nitrous_inner))\n",
    "d_impingement_nitrous_middle = impinge_d / np.cos(deg_to_rad(theta_nitrous_middle))\n",
    "d_impingement_ethanol = impinge_d / np.cos(deg_to_rad(theta_fuel))\n",
    "\n",
    "t_nitrous_inner = d_impingement_nitrous_inner / v_nitrous\n",
    "t_nitrous_middle = d_impingement_nitrous_middle / v_nitrous\n",
    "t_ethanol = d_impingement_ethanol / v_ethanol"
   ]
  },
  {
   "cell_type": "markdown",
   "id": "36b28a8c",
   "metadata": {},
   "source": [
    "The time for each stream to the impingement point cannot be the half period (or odd multiple of the half period) of the longitudinal mode of instability in the chamber (Huzel & Huang, pp. 148). The instability is dependent on the chamber length, so we can use this calculation to inform our decision on chamber length. We first need the speed of sound, which is given by sqrt(gamma*R*Tc/M), which are all known parameters. We then calculate the frequency of instability modes, which is the speed of sound over twice the chamber length. After some algebra, we find that the chamber length should not be the numbers given below (or any odd multiple)."
   ]
  },
  {
   "cell_type": "code",
   "execution_count": 82,
   "id": "8be8bf42",
   "metadata": {},
   "outputs": [
    {
     "name": "stdout",
     "output_type": "stream",
     "text": [
      "Avoid these lengths and odd multiples: 125.307856382723, 127.91558849187926, 172.004028762347\n"
     ]
    }
   ],
   "source": [
    "# Known engine parameters, SI units\n",
    "gamma = 1.1589\n",
    "R = 324.0271\n",
    "Tc = 3028\n",
    "\n",
    "# speed of sound in chamber\n",
    "a_c = np.sqrt(gamma*R*Tc)\n",
    "\n",
    "# chamber lengths to avoid, in\n",
    "L_avoid_1 = a_c * t_nitrous_inner / 4 * 39.3701\n",
    "L_avoid_2 = a_c * t_nitrous_middle / 4 * 39.3701\n",
    "L_avoid_3 = a_c * t_ethanol / 4 * 39.3701\n",
    "print(f\"Avoid these lengths and odd multiples: {L_avoid_1}, {L_avoid_2}, {L_avoid_3}\")"
   ]
  },
  {
   "cell_type": "code",
   "execution_count": null,
   "id": "4441343f",
   "metadata": {},
   "outputs": [],
   "source": []
  }
 ],
 "metadata": {
  "kernelspec": {
   "display_name": "Python 3 (ipykernel)",
   "language": "python",
   "name": "python3"
  },
  "language_info": {
   "codemirror_mode": {
    "name": "ipython",
    "version": 3
   },
   "file_extension": ".py",
   "mimetype": "text/x-python",
   "name": "python",
   "nbconvert_exporter": "python",
   "pygments_lexer": "ipython3",
   "version": "3.11.3"
  }
 },
 "nbformat": 4,
 "nbformat_minor": 5
}
