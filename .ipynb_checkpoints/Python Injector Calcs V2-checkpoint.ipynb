{
 "cells": [
  {
   "cell_type": "markdown",
   "id": "7d0bbd3f",
   "metadata": {},
   "source": [
    "Polaris Injector Calcs (v2)\n",
    "\n",
    "In this program we will calculate all the parameters necessary to design an unlike impinging triplet injector."
   ]
  },
  {
   "cell_type": "code",
   "execution_count": 1,
   "id": "ee7a4638",
   "metadata": {},
   "outputs": [],
   "source": [
    "import numpy as np\n",
    "import matplotlib.pyplot as plt\n",
    "import math"
   ]
  },
  {
   "cell_type": "markdown",
   "id": "5a5b238b",
   "metadata": {},
   "source": [
    "First off, we need to know the mass flow rates of the oxidizer (nitrous oxide) and fuel (ethanol). Our total mass flow rate is 1.3 kg/s. However, our fuel to oxidizer ratio is 1:4.5, so we need a lot more oxidizer mass flow rate than fuel. We will distribute the flow rate by having two orifices for oxidizer and one orifice for fuel per triplet group. To obtain the ratios of mass flow rates, we can simply multiply the total mass flow by each ratio, accounting for the fact that there are 3 orifices per group and 5 groups in total."
   ]
  },
  {
   "cell_type": "code",
   "execution_count": 4,
   "id": "61f386a7",
   "metadata": {},
   "outputs": [
    {
     "name": "stdout",
     "output_type": "stream",
     "text": [
      "mdot_ox:  0.10636363636363637\n",
      "mdot_ethanol:  0.04727272727272728\n"
     ]
    }
   ],
   "source": [
    "mdot_nitrous_total = 1.3 * (4.5/5.5)\n",
    "mdot_ethanol_total = 1.3 * (1/5.5)\n",
    "\n",
    "mdot_nitrous = mdot_nitrous_total / 10\n",
    "mdot_ethanol = mdot_ethanol_total / 5\n",
    "\n",
    "print(\"mdot_ox: \", mdot_nitrous)\n",
    "print(\"mdot_ethanol: \", mdot_ethanol)"
   ]
  },
  {
   "cell_type": "markdown",
   "id": "c9925513",
   "metadata": {},
   "source": [
    "Here are some other necessary parameters: c_d is the discharge coefficient, which was calculated in a MATLAB program run by Alex. It is the predicted ratio of actual discharge of mass at the end of the nozzle to ideal discharge of mass at the end of the nozzle.\n",
    "\n",
    "rho_ethanol is the density of ethanol (789 kg/m^3).\n",
    "\n",
    "rho_nitrous is the density of nitrous oxide (817 kg/m^3). pressure_chamber is the stagnation pressure of the chamber converted from 520 psi to Pa.\n",
    "\n",
    "delta_pressure_injector is the pressure drop across the injector in Pa (converted from 100 psi), should be 15-20% of the chamber pressure.\n",
    "\n",
    "pressure_fuel_inlet is the pressure in the fuel manifold.\n",
    "\n",
    "pressure_oxidizer_inlet is the pressure in the oxidizer manifold.\n",
    "\n",
    "d_ox is the diameter of the oxidier holes in inches.\n",
    "\n",
    "d_fuel is the diameter of the fuel holes in inches.\n",
    "\n",
    "v_nitrous is the exit velocity from the oxidizer orifices. Calculated via Bernoulli's principle\n",
    "\n",
    "v_ethanol is the exit velocity from the fuel orifices. Calculated via Bernoulli's principle."
   ]
  },
  {
   "cell_type": "code",
   "execution_count": 5,
   "id": "0075ecb4",
   "metadata": {},
   "outputs": [
    {
     "name": "stdout",
     "output_type": "stream",
     "text": [
      "v_nitrous:  40.4628968566491\n",
      "v_ethanol:  41.17461041052858\n"
     ]
    }
   ],
   "source": [
    "c_d = 0.41\n",
    "rho_ethanol = 789\n",
    "rho_nitrous = 817\n",
    "pressure_chamber = 460*6895\n",
    "delta_pressure_injector = 97*6895\n",
    "pressure_fuel_inlet = delta_pressure_injector + pressure_chamber\n",
    "pressure_oxidizer_inlet = delta_pressure_injector + pressure_chamber\n",
    "d_ox = 7/64\n",
    "d_fuel = 1/16\n",
    "v_nitrous = np.sqrt((2*delta_pressure_injector)/rho_nitrous)\n",
    "v_ethanol = np.sqrt((2*delta_pressure_injector)/rho_ethanol)\n",
    "print(\"v_nitrous: \", v_nitrous)\n",
    "print(\"v_ethanol: \", v_ethanol)"
   ]
  },
  {
   "cell_type": "markdown",
   "id": "0370dfd3",
   "metadata": {},
   "source": [
    "Now let's define some helper functions to convert angles from deg to rad and vice versa."
   ]
  },
  {
   "cell_type": "code",
   "execution_count": 6,
   "id": "f10fa22a",
   "metadata": {},
   "outputs": [],
   "source": [
    "def deg_to_rad(angle):\n",
    "    \"\"\" Converts angle from deg to rad.\"\"\"\n",
    "    return angle*np.pi/180\n",
    "\n",
    "def rad_to_deg(angle):\n",
    "    \"\"\" Converts angle from rad to deg.\"\"\"\n",
    "    return angle*180/np.pi"
   ]
  },
  {
   "cell_type": "markdown",
   "id": "761ed096",
   "metadata": {},
   "source": [
    "The geometry of the V2 injector is significantly simplified compared to V1. The ethanol orifice will point straight down, and there will be one nitrous orifice on either side of the ethanol orifice, each at 30 degrees. This preserves the total 60 degrees recommended by JPL, and improves mixing efficiency compared to V1."
   ]
  },
  {
   "cell_type": "code",
   "execution_count": 7,
   "id": "9ee433a7",
   "metadata": {},
   "outputs": [],
   "source": [
    "theta_nitrous = 30"
   ]
  },
  {
   "cell_type": "markdown",
   "id": "b28fc777",
   "metadata": {},
   "source": [
    "Next, we define the distance between the ethanol orifice and one nitrous orifice (same on both sides), based on what fits in the geometry of the injector. Then, we verify that the impingement distance is greater than 5 times the average of the hole diameters for thermal safety of the faceplate. "
   ]
  },
  {
   "cell_type": "code",
   "execution_count": 11,
   "id": "6e4b0c15",
   "metadata": {},
   "outputs": [
    {
     "name": "stdout",
     "output_type": "stream",
     "text": [
      "This number should be greater than 5:  7.020579273345851\n"
     ]
    }
   ],
   "source": [
    "d_of = 0.38 # inches\n",
    "impinge_d = d_of / np.tan(deg_to_rad(theta_nitrous)) # inches\n",
    "impingement_safety = impinge_d / ((2*d_ox+d_fuel)/3)\n",
    "print(\"This number should be greater than 5: \", impingement_safety)"
   ]
  },
  {
   "cell_type": "markdown",
   "id": "b94291a5",
   "metadata": {},
   "source": [
    "Next we want to calculate the height of the injector face. We choose an L/d ratio of 5 for both types of orifices, and from this we can calculate the height with trig."
   ]
  },
  {
   "cell_type": "code",
   "execution_count": 12,
   "id": "434d9fae",
   "metadata": {},
   "outputs": [
    {
     "name": "stdout",
     "output_type": "stream",
     "text": [
      "Height of faceplate for oxidizer:  0.4736076426946149\n",
      "Height of faceplate for fuel:  0.3125\n"
     ]
    }
   ],
   "source": [
    "L_ox = d_ox * 5\n",
    "L_fuel = d_fuel * 5\n",
    "h_ox = L_ox * np.cos(deg_to_rad(theta_nitrous)) # inches\n",
    "h_fuel = L_fuel # inches\n",
    "print(\"Height of faceplate for oxidizer: \", h_ox)\n",
    "print(\"Height of faceplate for fuel: \", h_fuel)"
   ]
  },
  {
   "cell_type": "markdown",
   "id": "88132d0c",
   "metadata": {},
   "source": [
    "Next, we get optimal cross-sectional area of each annulus, which is given by 4 * A_total where A_total is the total cross sectional area of the orifices for fuel/ox. Not sure where this relation comes from. Finally, given we calculate the y dimension of the cross-section of each annulus given the x dimension."
   ]
  },
  {
   "cell_type": "code",
   "execution_count": 13,
   "id": "adedaa25",
   "metadata": {},
   "outputs": [
    {
     "name": "stdout",
     "output_type": "stream",
     "text": [
      "Enter in a value for the x-component of oxidizer annulus cross-sectional area. It should be bigger than the distance between the oxidizer holes, and also be wide enough to fit a 1/4th inch pipe fitting: 2.9948\n",
      "Enter in a value for the x-component of fuel annulus cross-sectional area. It should be wide enough to fit a 1/16th inch pipe fitting: 0.25\n",
      "X component of oxidizer annulus: 2.9948\n",
      "Y component of oxidizer annulus: 0.06274630910778384\n",
      "X component of fuel annulus: 0.25\n",
      "Y component of fuel annulus: 0.1227184630308513\n"
     ]
    }
   ],
   "source": [
    "A_nitrous_total = np.pi*(d_ox/2)**2 * 10\n",
    "A_ethanol_total = np.pi*(d_fuel/2)**2 * 5\n",
    "A_ox_annulus = 4 * A_nitrous_total\n",
    "A_fuel_annulus = 4 * A_ethanol_total\n",
    "\n",
    "# only need to enter half x direction (i.e. one side of the cross section)\n",
    "d_ox_annulus_x = float(input(\"Enter in a value for the x-component of oxidizer annulus cross-sectional area. It should be bigger than the distance between the oxidizer holes, and also be wide enough to fit a 1/4th inch pipe fitting: \"))\n",
    "d_fuel_annulus_x = float(input(\"Enter in a value for the x-component of fuel annulus cross-sectional area. It should be wide enough to fit a 1/16th inch pipe fitting: \"))\n",
    "d_ox_annulus_y = A_ox_annulus / d_ox_annulus_x / 2\n",
    "d_fuel_annulus_y = A_fuel_annulus / d_fuel_annulus_x / 2\n",
    "\n",
    "print(f'X component of oxidizer annulus: {d_ox_annulus_x}')\n",
    "print(f'Y component of oxidizer annulus: {d_ox_annulus_y}')\n",
    "print(f'X component of fuel annulus: {d_fuel_annulus_x}')\n",
    "print(f'Y component of fuel annulus: {d_fuel_annulus_y}')"
   ]
  },
  {
   "cell_type": "markdown",
   "id": "8be012d9",
   "metadata": {},
   "source": [
    "Next we need to calculate the distance from each orifice to the impingement point, which will then allow us to calculate the time to impingement for each stream."
   ]
  },
  {
   "cell_type": "code",
   "execution_count": 14,
   "id": "ba863b4c",
   "metadata": {},
   "outputs": [],
   "source": [
    "d_impingement_nitrous = impinge_d / np.cos(deg_to_rad(theta_nitrous))\n",
    "d_impingement_ethanol = impinge_d\n",
    "\n",
    "t_nitrous = d_impingement_nitrous / v_nitrous\n",
    "t_ethanol = d_impingement_ethanol / v_ethanol"
   ]
  },
  {
   "cell_type": "markdown",
   "id": "465b8f79",
   "metadata": {},
   "source": [
    "The time for each stream to the impingement point cannot be the half period (or odd multiple of the half period) of the longitudinal mode of instability in the chamber (Huzel & Huang, pp. 148). The instability is dependent on the chamber length, so we can use this calculation to inform our decision on chamber length. We first need the speed of sound, which is given by sqrt(gammaRTc/M), which are all known parameters. We then calculate the frequency of instability modes, which is the speed of sound over twice the chamber length. After some algebra, we find that the chamber length should not be the numbers given below (or any odd multiple)."
   ]
  },
  {
   "cell_type": "code",
   "execution_count": 16,
   "id": "eedcb953",
   "metadata": {},
   "outputs": [
    {
     "name": "stdout",
     "output_type": "stream",
     "text": [
      "Avoid these lengths and odd multiples: 197.1309118141685, 167.76943260247012\n"
     ]
    }
   ],
   "source": [
    "# Known parameters, SI units\n",
    "gamma = 1.1589\n",
    "R = 324.0271\n",
    "Tc = 3028\n",
    "\n",
    "# speed of sound in chamber\n",
    "a_c = np.sqrt(gamma*R*Tc)\n",
    "\n",
    "# chamber lengths to avoid, inches\n",
    "L_avoid_1 = a_c * t_nitrous / 4 * 39.3701\n",
    "L_avoid_2 = a_c * t_ethanol / 4 * 39.3701\n",
    "print(f\"Avoid these lengths and odd multiples: {L_avoid_1}, {L_avoid_2}\")"
   ]
  },
  {
   "cell_type": "markdown",
   "id": "22982191",
   "metadata": {},
   "source": [
    "Next we will calculate the chances of cavitation when fluid is flowing through the orifice. Significant cavitation decreases mass flow rate and causes instabilities. We first want to calculate K, the cavitation number, which is given by (p_inlet - p_v)/(delta_pressure_injector) where p_inlet is the pressure in the manifold, p_v is the vapor pressure, and delta_pressure_injector is the pressure drop across the injector. K should be greater than 1.5 for moderate to low likelihood of cavitation. \n",
    "\n",
    "First we calculate p_v using the Clausius-Clapeyron Equation.\n",
    "\n",
    "The vapor pressure of nitrous is 747 psi at 20 °C. The vapor pressure of ethanol is 0.86 psi at 20 °C. We will find p_v at the temperature of the manifold, which is the temperature of the fluids in the tank.\n",
    "\n",
    "Heat of vaporization of nitrous is 4e3 J/mol, heat of vaporization of ethanol is 4.22e4 J/mol. (Hansen, Agbor, and Keil, 2007; Kretschmer and Wiebe, 1949)."
   ]
  },
  {
   "cell_type": "code",
   "execution_count": 20,
   "id": "a0b1d381",
   "metadata": {},
   "outputs": [
    {
     "name": "stdout",
     "output_type": "stream",
     "text": [
      "Enter the temperature in the manifold: 26.7\n",
      "P_v of nitrous:  774.9447013197785\n",
      "P_v of ethanol:  1.2669869031050405\n"
     ]
    }
   ],
   "source": [
    "R = 8.31 # gas constant\n",
    "H_nitrous = 4e3\n",
    "H_ethanol = 4.22e4\n",
    "T_final = float(input(\"Enter the temperature in the manifold: \"))+273 # C to K\n",
    "T1 = 20+273\n",
    "p_v1_nitrous = 747 # psi\n",
    "p_v1_ethanol = 0.86\n",
    "\n",
    "p_v_nitrous = p_v1_nitrous * math.e ** (H_nitrous/R * (1/T1-1/T_final))\n",
    "p_v_ethanol = p_v1_ethanol * math.e ** (H_ethanol/R * (1/T1-1/T_final))\n",
    "\n",
    "print(\"P_v of nitrous: \", p_v_nitrous)\n",
    "print(\"P_v of ethanol: \", p_v_ethanol)"
   ]
  },
  {
   "cell_type": "markdown",
   "id": "f2028a06",
   "metadata": {},
   "source": [
    "Next we calculate the cavitation numbers for fuel and ox."
   ]
  },
  {
   "cell_type": "code",
   "execution_count": 21,
   "id": "74762d82",
   "metadata": {},
   "outputs": [
    {
     "name": "stdout",
     "output_type": "stream",
     "text": [
      "Nitrous cavitation number:  -2.246852590925551\n",
      "Ethanol cavitation number:  5.729206320586545\n"
     ]
    }
   ],
   "source": [
    "K_nitrous = (pressure_oxidizer_inlet-p_v_nitrous*6895)/delta_pressure_injector\n",
    "K_ethanol = (pressure_fuel_inlet-p_v_ethanol*6895)/delta_pressure_injector\n",
    "\n",
    "print(\"Nitrous cavitation number: \", K_nitrous)\n",
    "print(\"Ethanol cavitation number: \", K_ethanol)"
   ]
  },
  {
   "cell_type": "markdown",
   "id": "8696e574",
   "metadata": {},
   "source": [
    "Everything below here is for testing only."
   ]
  },
  {
   "cell_type": "code",
   "execution_count": 22,
   "id": "81968664",
   "metadata": {},
   "outputs": [
    {
     "data": {
      "text/plain": [
       "3171700"
      ]
     },
     "execution_count": 22,
     "metadata": {},
     "output_type": "execute_result"
    }
   ],
   "source": [
    "pressure_chamber"
   ]
  },
  {
   "cell_type": "code",
   "execution_count": 45,
   "id": "a2abe702",
   "metadata": {},
   "outputs": [
    {
     "name": "stdout",
     "output_type": "stream",
     "text": [
      "k:  1.757685908918046\n",
      "G_spi fraction: 0.3626228776693214, G_hem fraction: 0.6373771223306786\n",
      "G:  12754.677073997773\n",
      "Calculated mdot:  119.83825622158793\n",
      "33058.18673188231\n"
     ]
    }
   ],
   "source": [
    "G_hem = 3e4 # kg/(m^2*s)\n",
    "G_spi = math.sqrt(2*rho_nitrous*delta_pressure_injector) # kg/(m^2*s)\n",
    "# k = math.sqrt((delta_pressure_injector)/(p_v_nitrous*6895 - pressure_chamber))\n",
    "t_b = math.sqrt(3/2 * rho_nitrous / (p_v_nitrous*6895-pressure_chamber))\n",
    "t_r = L_ox * math.sqrt(rho_nitrous/(2*delta_pressure_injector))\n",
    "k = t_b/t_r\n",
    "\n",
    "G = c_d*(1/(1+k)*G_spi + (1-1/(1+k))*G_hem) # kg/(m^2*s)\n",
    "mdot_from_G = G * np.pi*(d_ox/2)**2\n",
    "\n",
    "print(\"k: \", k)\n",
    "print(f\"G_spi fraction: {1/(1+k)}, G_hem fraction: {1-1/(1+k)}\")\n",
    "print(\"G: \", G)\n",
    "print(\"Calculated mdot: \", mdot_from_G)"
   ]
  },
  {
   "cell_type": "code",
   "execution_count": null,
   "id": "1c7a7048",
   "metadata": {},
   "outputs": [],
   "source": []
  }
 ],
 "metadata": {
  "kernelspec": {
   "display_name": "Python 3 (ipykernel)",
   "language": "python",
   "name": "python3"
  },
  "language_info": {
   "codemirror_mode": {
    "name": "ipython",
    "version": 3
   },
   "file_extension": ".py",
   "mimetype": "text/x-python",
   "name": "python",
   "nbconvert_exporter": "python",
   "pygments_lexer": "ipython3",
   "version": "3.11.3"
  }
 },
 "nbformat": 4,
 "nbformat_minor": 5
}
